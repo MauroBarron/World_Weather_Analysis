{
 "cells": [
  {
   "cell_type": "code",
   "execution_count": 1,
   "metadata": {},
   "outputs": [],
   "source": [
    "## practice opening a py from github. Wing Chen's citipy\n",
    "from citipy import citipy"
   ]
  },
  {
   "cell_type": "code",
   "execution_count": 2,
   "metadata": {},
   "outputs": [],
   "source": [
    "# Create a practice set of random latitude and longitude combinations.\n",
    "x = [25.12903645, 25.92017388, 26.62509167, -59.98969384, 37.30571269]\n",
    "y = [-67.59741259, 11.09532135, 74.84233102, -76.89176677, -61.13376282]\n",
    "coordinates = zip(x, y)"
   ]
  },
  {
   "cell_type": "code",
   "execution_count": 3,
   "metadata": {},
   "outputs": [
    {
     "name": "stdout",
     "output_type": "stream",
     "text": [
      "25.12903645 -67.59741259\n",
      "25.92017388 11.09532135\n",
      "26.62509167 74.84233102\n",
      "-59.98969384 -76.89176677\n",
      "37.30571269 -61.13376282\n"
     ]
    }
   ],
   "source": [
    "## now use the tuple() function to display the lats and longs\n",
    "for coordinate in coordinates:\n",
    "    print(coordinate[0], coordinate[1])"
   ]
  },
  {
   "cell_type": "code",
   "execution_count": 4,
   "metadata": {},
   "outputs": [],
   "source": [
    "## must rerun or recreate the tuple() as wiped from memory after running once.\n",
    "## soooo..... \n",
    "x = [25.12903645, 25.92017388, 26.62509167, -59.98969384, 37.30571269]\n",
    "y = [-67.59741259, 11.09532135, 74.84233102, -76.89176677, -61.13376282]\n",
    "coordinates = zip(x, y)"
   ]
  },
  {
   "cell_type": "code",
   "execution_count": 5,
   "metadata": {},
   "outputs": [
    {
     "name": "stdout",
     "output_type": "stream",
     "text": [
      "25.12903645 -67.59741259\n",
      "25.92017388 11.09532135\n",
      "26.62509167 74.84233102\n",
      "-59.98969384 -76.89176677\n",
      "37.30571269 -61.13376282\n"
     ]
    }
   ],
   "source": [
    "for coordinate in coordinates:\n",
    "    print(coordinate[0], coordinate[1])"
   ]
  },
  {
   "cell_type": "code",
   "execution_count": 6,
   "metadata": {},
   "outputs": [
    {
     "data": {
      "text/plain": [
       "'2.22.0'"
      ]
     },
     "execution_count": 6,
     "metadata": {},
     "output_type": "execute_result"
    }
   ],
   "source": [
    "## Python requests library 2.22.  JSON data requests.\n",
    "import requests\n",
    "requests.__version__"
   ]
  },
  {
   "cell_type": "code",
   "execution_count": 20,
   "metadata": {},
   "outputs": [
    {
     "name": "stdout",
     "output_type": "stream",
     "text": [
      "Current working directory is: c:\\Users\\Marishka\\Documents\\DABootcamp\\W7-WeatherPyWithPythonAPIs\\World_Weather_Analysis\n"
     ]
    }
   ],
   "source": [
    "### Use config file containing keys into a different path and import it\n",
    "import os  # use the OS library\n",
    "\n",
    "# Change \n",
    "os.chdir('c:\\\\Users\\\\Marishka\\\\Documents\\DABootcamp\\\\APIs\\Keys') \n",
    "\n",
    "## Import the OpenWeatherMap API key\n",
    "from config import weather_api_key\n",
    "\n",
    "# Change back to current folder\n",
    "os.chdir('c:\\\\Users\\\\Marishka\\\\Documents\\DABootcamp\\\\W7-WeatherPyWithPythonAPIs\\\\World_Weather_Analysis') \n",
    "\n",
    "# Get current path using getcwd() \n",
    "cwd = os.getcwd() \n",
    "print(\"Current working directory is:\", cwd) "
   ]
  },
  {
   "cell_type": "code",
   "execution_count": 21,
   "metadata": {},
   "outputs": [],
   "source": [
    "## Import the OpenWeatherMap API key as test\n",
    "from config import weather_api_key"
   ]
  },
  {
   "cell_type": "code",
   "execution_count": 22,
   "metadata": {},
   "outputs": [
    {
     "name": "stdout",
     "output_type": "stream",
     "text": [
      "http://api.openweathermap.org/data/2.5/weather?units=Imperial&APPID=058ccb02f765c0268667a6f8eeac8cb8\n"
     ]
    }
   ],
   "source": [
    "## Start pulling some data!\n",
    " # note the addition of \"Imperial\" to the call which means Fahrenheit\n",
    "url = \"http://api.openweathermap.org/data/2.5/weather?units=Imperial&APPID=\" + weather_api_key\n",
    "print(url)"
   ]
  },
  {
   "cell_type": "code",
   "execution_count": 23,
   "metadata": {},
   "outputs": [
    {
     "name": "stdout",
     "output_type": "stream",
     "text": [
      "http://api.openweathermap.org/data/2.5/weather?units=Imperial&APPID=058ccb02f765c0268667a6f8eeac8cb8&q=Boston\n"
     ]
    }
   ],
   "source": [
    "## Create an endpoint URL. Add a city to they query.\n",
    "city_url = url + \"&q=\" + \"Boston\"\n",
    "print(city_url)"
   ]
  },
  {
   "cell_type": "code",
   "execution_count": 25,
   "metadata": {},
   "outputs": [
    {
     "data": {
      "text/plain": [
       "<Response [200]>"
      ]
     },
     "execution_count": 25,
     "metadata": {},
     "output_type": "execute_result"
    }
   ],
   "source": [
    "## Now practice a \"Get\" request\n",
    "city_weather = requests.get(city_url)\n",
    "city_weather"
   ]
  },
  {
   "cell_type": "code",
   "execution_count": 27,
   "metadata": {},
   "outputs": [
    {
     "data": {
      "text/plain": [
       "200"
      ]
     },
     "execution_count": 27,
     "metadata": {},
     "output_type": "execute_result"
    }
   ],
   "source": [
    "## another waytogetthe status code\n",
    "city_weather.status_code"
   ]
  },
  {
   "cell_type": "code",
   "execution_count": 28,
   "metadata": {},
   "outputs": [
    {
     "data": {
      "text/plain": [
       "<Response [404]>"
      ]
     },
     "execution_count": 28,
     "metadata": {},
     "output_type": "execute_result"
    }
   ],
   "source": [
    "# Practice creating an error while create an endpoint URL for a city. \n",
    "city_url = url + \"&q=\" + \"Bston\"\n",
    "city_weather = requests.get(city_url)\n",
    "city_weather"
   ]
  },
  {
   "cell_type": "code",
   "execution_count": 30,
   "metadata": {},
   "outputs": [
    {
     "data": {
      "text/plain": [
       "<Response [200]>"
      ]
     },
     "execution_count": 30,
     "metadata": {},
     "output_type": "execute_result"
    }
   ],
   "source": [
    "## now lets get a valid response\n",
    "city_url = url + \"&q=\" + \"Oakland\"\n",
    "city_weather = requests.get(city_url)\n",
    "city_weather"
   ]
  },
  {
   "cell_type": "code",
   "execution_count": 31,
   "metadata": {},
   "outputs": [
    {
     "data": {
      "text/plain": [
       "'{\"coord\":{\"lon\":-122.27,\"lat\":37.8},\"weather\":[{\"id\":802,\"main\":\"Clouds\",\"description\":\"scattered clouds\",\"icon\":\"03d\"}],\"base\":\"stations\",\"main\":{\"temp\":51.24,\"feels_like\":45.93,\"temp_min\":43,\"temp_max\":55.99,\"pressure\":1024,\"humidity\":76},\"visibility\":16093,\"wind\":{\"speed\":6.93,\"deg\":300},\"clouds\":{\"all\":40},\"dt\":1578425278,\"sys\":{\"type\":1,\"id\":5154,\"country\":\"US\",\"sunrise\":1578410688,\"sunset\":1578445514},\"timezone\":-28800,\"id\":5378538,\"name\":\"Oakland\",\"cod\":200}'"
      ]
     },
     "execution_count": 31,
     "metadata": {},
     "output_type": "execute_result"
    }
   ],
   "source": [
    "# Get the text of the \"Get\" request.\n",
    "city_weather.text"
   ]
  },
  {
   "cell_type": "code",
   "execution_count": 33,
   "metadata": {},
   "outputs": [
    {
     "data": {
      "text/plain": [
       "{'coord': {'lon': -122.27, 'lat': 37.8},\n",
       " 'weather': [{'id': 802,\n",
       "   'main': 'Clouds',\n",
       "   'description': 'scattered clouds',\n",
       "   'icon': '03d'}],\n",
       " 'base': 'stations',\n",
       " 'main': {'temp': 51.24,\n",
       "  'feels_like': 45.93,\n",
       "  'temp_min': 43,\n",
       "  'temp_max': 55.99,\n",
       "  'pressure': 1024,\n",
       "  'humidity': 76},\n",
       " 'visibility': 16093,\n",
       " 'wind': {'speed': 6.93, 'deg': 300},\n",
       " 'clouds': {'all': 40},\n",
       " 'dt': 1578425278,\n",
       " 'sys': {'type': 1,\n",
       "  'id': 5154,\n",
       "  'country': 'US',\n",
       "  'sunrise': 1578410688,\n",
       "  'sunset': 1578445514},\n",
       " 'timezone': -28800,\n",
       " 'id': 5378538,\n",
       " 'name': 'Oakland',\n",
       " 'cod': 200}"
      ]
     },
     "execution_count": 33,
     "metadata": {},
     "output_type": "execute_result"
    }
   ],
   "source": [
    "## Get the JSON of the \"Get\" request.\n",
    "city_weather.json()"
   ]
  },
  {
   "cell_type": "code",
   "execution_count": 36,
   "metadata": {},
   "outputs": [
    {
     "name": "stdout",
     "output_type": "stream",
     "text": [
      "City weather not found.\n"
     ]
    }
   ],
   "source": [
    "## Check for valid response before running code.\n",
    "city_url = url + \"&q=\" + \"Oakland\"  ## the url for weather api site\n",
    "city_weather = requests.get(city_url) # set get response to var\n",
    "if city_weather.status_code == 200: # conditional for code = 200\n",
    "    print(f\"City Weather found.\")  # print if true\n",
    "else:\n",
    "    print(f\"City weather not found.\")  # print if not true"
   ]
  },
  {
   "cell_type": "code",
   "execution_count": 37,
   "metadata": {},
   "outputs": [
    {
     "name": "stdout",
     "output_type": "stream",
     "text": [
      "City Weather found.\n"
     ]
    }
   ],
   "source": [
    "## Check for valid response and JSON data.\n",
    "city_url = url + \"&q=\" + \"Oakland\"\n",
    "city_weather = requests.get(city_url)\n",
    "if city_weather.json():\n",
    "    print(f\"City Weather found.\")\n",
    "else:\n",
    "    print(f\"City weather not found.\")"
   ]
  },
  {
   "cell_type": "code",
   "execution_count": 38,
   "metadata": {},
   "outputs": [
    {
     "name": "stdout",
     "output_type": "stream",
     "text": [
      "http://api.openweathermap.org/data/2.5/weather?units=Imperial&APPID=058ccb02f765c0268667a6f8eeac8cb8&q=Oakland\n"
     ]
    }
   ],
   "source": [
    "print(city_url)"
   ]
  },
  {
   "cell_type": "code",
   "execution_count": 39,
   "metadata": {},
   "outputs": [],
   "source": [
    "### 6.2.5  Parse a Response from an API"
   ]
  },
  {
   "cell_type": "code",
   "execution_count": 40,
   "metadata": {},
   "outputs": [
    {
     "data": {
      "text/plain": [
       "{'coord': {'lon': -122.27, 'lat': 37.8},\n",
       " 'weather': [{'id': 802,\n",
       "   'main': 'Clouds',\n",
       "   'description': 'scattered clouds',\n",
       "   'icon': '03d'}],\n",
       " 'base': 'stations',\n",
       " 'main': {'temp': 52.97,\n",
       "  'feels_like': 48.04,\n",
       "  'temp_min': 48,\n",
       "  'temp_max': 57.99,\n",
       "  'pressure': 1024,\n",
       "  'humidity': 76},\n",
       " 'visibility': 16093,\n",
       " 'wind': {'speed': 6.93, 'deg': 300},\n",
       " 'clouds': {'all': 40},\n",
       " 'dt': 1578425925,\n",
       " 'sys': {'type': 1,\n",
       "  'id': 5154,\n",
       "  'country': 'US',\n",
       "  'sunrise': 1578410688,\n",
       "  'sunset': 1578445514},\n",
       " 'timezone': -28800,\n",
       " 'id': 5378538,\n",
       " 'name': 'Oakland',\n",
       " 'cod': 200}"
      ]
     },
     "execution_count": 40,
     "metadata": {},
     "output_type": "execute_result"
    }
   ],
   "source": [
    "#\n",
    "city_url = url + \"&q=\" + \"Oakland\"\n",
    "city_weather = requests.get(city_url)\n",
    "city_weather.json()"
   ]
  },
  {
   "cell_type": "code",
   "execution_count": 45,
   "metadata": {},
   "outputs": [],
   "source": [
    "# get the city weather data for Oakland into json format\n",
    "oakland_data = city_weather.json()"
   ]
  },
  {
   "cell_type": "code",
   "execution_count": 51,
   "metadata": {},
   "outputs": [
    {
     "data": {
      "text/plain": [
       "'US'"
      ]
     },
     "execution_count": 51,
     "metadata": {},
     "output_type": "execute_result"
    }
   ],
   "source": [
    "# json practice pulling data from dictionary\n",
    "oakland_data[\"sys\"][\"country\"]"
   ]
  },
  {
   "cell_type": "code",
   "execution_count": 52,
   "metadata": {},
   "outputs": [
    {
     "data": {
      "text/plain": [
       "[{'id': 802,\n",
       "  'main': 'Clouds',\n",
       "  'description': 'scattered clouds',\n",
       "  'icon': '03d'}]"
      ]
     },
     "execution_count": 52,
     "metadata": {},
     "output_type": "execute_result"
    }
   ],
   "source": [
    "# explore a little more\n",
    "oakland_data[\"weather\"] "
   ]
  },
  {
   "cell_type": "code",
   "execution_count": 55,
   "metadata": {},
   "outputs": [
    {
     "data": {
      "text/plain": [
       "52.97"
      ]
     },
     "execution_count": 55,
     "metadata": {},
     "output_type": "execute_result"
    }
   ],
   "source": [
    "# explore a little more\n",
    "oakland_data[\"main\"][\"temp\"]"
   ]
  },
  {
   "cell_type": "code",
   "execution_count": 57,
   "metadata": {},
   "outputs": [],
   "source": [
    "# explore a little more\n",
    "oakland_data[\"weather\"][\"id\"] ## weather is a list... I think"
   ]
  },
  {
   "cell_type": "code",
   "execution_count": 58,
   "metadata": {},
   "outputs": [
    {
     "data": {
      "text/plain": [
       "1578425925"
      ]
     },
     "execution_count": 58,
     "metadata": {},
     "output_type": "execute_result"
    }
   ],
   "source": [
    "# get date from weather api date field which is dt\n",
    "oakland_data[\"dt\"] "
   ]
  },
  {
   "cell_type": "code",
   "execution_count": 59,
   "metadata": {},
   "outputs": [
    {
     "data": {
      "text/plain": [
       "37.8"
      ]
     },
     "execution_count": 59,
     "metadata": {},
     "output_type": "execute_result"
    }
   ],
   "source": [
    "# get date from weather api date field which is dt\n",
    "oakland_data[\"coord\"][\"lat\"] "
   ]
  },
  {
   "cell_type": "code",
   "execution_count": 60,
   "metadata": {},
   "outputs": [
    {
     "data": {
      "text/plain": [
       "57.99"
      ]
     },
     "execution_count": 60,
     "metadata": {},
     "output_type": "execute_result"
    }
   ],
   "source": [
    "# get maximum temp from weather api date field which is dt\n",
    "oakland_data[\"main\"][\"temp_max\"]"
   ]
  },
  {
   "cell_type": "code",
   "execution_count": 63,
   "metadata": {},
   "outputs": [
    {
     "name": "stdout",
     "output_type": "stream",
     "text": [
      "37.8 -122.27 57.99 76 40 6.93\n"
     ]
    }
   ],
   "source": [
    "## now practice getting lots of data \n",
    "lat = oakland_data[\"coord\"][\"lat\"]\n",
    "lng = oakland_data[\"coord\"][\"lon\"]\n",
    "max_temp = oakland_data[\"main\"][\"temp_max\"]\n",
    "humidity = oakland_data[\"main\"][\"humidity\"]\n",
    "clouds = oakland_data[\"clouds\"][\"all\"]\n",
    "wind = oakland_data[\"wind\"][\"speed\"]\n",
    "print(lat, lng, max_temp, humidity, clouds, wind)"
   ]
  },
  {
   "cell_type": "code",
   "execution_count": 65,
   "metadata": {},
   "outputs": [
    {
     "data": {
      "text/plain": [
       "datetime.datetime(2020, 1, 7, 19, 38, 45)"
      ]
     },
     "execution_count": 65,
     "metadata": {},
     "output_type": "execute_result"
    }
   ],
   "source": [
    "## Working with Dates. this gets date in ISO format\n",
    "from datetime import datetime\n",
    "# Get the date from the JSON file.\n",
    "date = oakland_data[\"dt\"]\n",
    "# Convert the UTC date to a date format with year, month, day, hours, minutes, and seconds.\n",
    "datetime.utcfromtimestamp(date)"
   ]
  },
  {
   "cell_type": "code",
   "execution_count": 76,
   "metadata": {},
   "outputs": [
    {
     "data": {
      "text/plain": [
       "'2020-01-07 19:38:45'"
      ]
     },
     "execution_count": 76,
     "metadata": {},
     "output_type": "execute_result"
    }
   ],
   "source": [
    "## Working with Dates 2. convert the date to Python string strftime()\n",
    "from datetime import datetime\n",
    "# Get the date from the JSON file.\n",
    "date = oakland_data[\"dt\"]\n",
    "# Convert the UTC date to a date format with year, month, day, hours, minutes, and seconds.\n",
    "datetime.utcfromtimestamp(date).strftime('%Y-%m-%d %H:%M:%S')"
   ]
  },
  {
   "cell_type": "code",
   "execution_count": null,
   "metadata": {},
   "outputs": [],
   "source": []
  }
 ],
 "metadata": {
  "kernelspec": {
   "display_name": "PythonData",
   "language": "python",
   "name": "pythondata"
  },
  "language_info": {
   "codemirror_mode": {
    "name": "ipython",
    "version": 3
   },
   "file_extension": ".py",
   "mimetype": "text/x-python",
   "name": "python",
   "nbconvert_exporter": "python",
   "pygments_lexer": "ipython3",
   "version": "3.6.9"
  }
 },
 "nbformat": 4,
 "nbformat_minor": 2
}
