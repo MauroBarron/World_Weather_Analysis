{
 "cells": [
  {
   "cell_type": "code",
   "execution_count": 1,
   "metadata": {},
   "outputs": [],
   "source": [
    "## import the random module\n",
    "import random"
   ]
  },
  {
   "cell_type": "code",
   "execution_count": 5,
   "metadata": {},
   "outputs": [
    {
     "data": {
      "text/plain": [
       "-86"
      ]
     },
     "execution_count": 5,
     "metadata": {},
     "output_type": "execute_result"
    }
   ],
   "source": [
    " # returns random integers. can take a range.\n",
    "random.randint(-90, 90)  ## returns random integers. can take a range"
   ]
  },
  {
   "cell_type": "code",
   "execution_count": 7,
   "metadata": {},
   "outputs": [
    {
     "data": {
      "text/plain": [
       "0.19237562145043763"
      ]
     },
     "execution_count": 7,
     "metadata": {},
     "output_type": "execute_result"
    }
   ],
   "source": [
    "#returns a single random number between 0 and 1 as floating point decimal\n",
    "random.random() \n"
   ]
  },
  {
   "cell_type": "code",
   "execution_count": 8,
   "metadata": {},
   "outputs": [
    {
     "data": {
      "text/plain": [
       "-84.07108132156665"
      ]
     },
     "execution_count": 8,
     "metadata": {},
     "output_type": "execute_result"
    }
   ],
   "source": [
    "# weird way: chain the commands. gets one random number plus random floating point decimal\n",
    "random_number =random.randint(-90, 90) + random.random()\n",
    "random_number"
   ]
  },
  {
   "cell_type": "code",
   "execution_count": 10,
   "metadata": {},
   "outputs": [
    {
     "data": {
      "text/plain": [
       "[52.0147817925701,\n",
       " 33.123968302639895,\n",
       " 29.00320517485991,\n",
       " 68.7655857322312,\n",
       " 63.23884305105935,\n",
       " 63.581037416092286,\n",
       " 68.78611652076751,\n",
       " 43.84261499322903,\n",
       " 36.3242531131394,\n",
       " 85.39355169148313]"
      ]
     },
     "execution_count": 10,
     "metadata": {},
     "output_type": "execute_result"
    }
   ],
   "source": [
    "## sample of algorithm to generate the latitudes\n",
    "x = 1  # set value of x variable to 1\n",
    "latitudes = [] # create empty list \n",
    "while x < 11: # loop 10 times\n",
    "    random_lat = random_number =random.randint(-90, 90) + random.random() # gen random number\n",
    "    latitudes.append(random_lat) # add number to list\n",
    "    x +=1 # increase counter\n",
    "latitudes    "
   ]
  },
  {
   "cell_type": "code",
   "execution_count": 11,
   "metadata": {},
   "outputs": [
    {
     "data": {
      "text/plain": [
       "22"
      ]
     },
     "execution_count": 11,
     "metadata": {},
     "output_type": "execute_result"
    }
   ],
   "source": [
    "## explore the randrange() function\n",
    "random.randrange(-90,90, step=1)"
   ]
  },
  {
   "cell_type": "code",
   "execution_count": 12,
   "metadata": {},
   "outputs": [
    {
     "data": {
      "text/plain": [
       "48"
      ]
     },
     "execution_count": 12,
     "metadata": {},
     "output_type": "execute_result"
    }
   ],
   "source": [
    "# exploring the randrange() function\n",
    "random.randrange(-90,90, step=3)"
   ]
  },
  {
   "cell_type": "code",
   "execution_count": 14,
   "metadata": {},
   "outputs": [
    {
     "data": {
      "text/plain": [
       "-89.89715954613689"
      ]
     },
     "execution_count": 14,
     "metadata": {},
     "output_type": "execute_result"
    }
   ],
   "source": [
    "# exploring randdom.uniform() generates a \n",
    "random.uniform(-90, 90) ## retrns a floating point decimal number"
   ]
  },
  {
   "cell_type": "code",
   "execution_count": 15,
   "metadata": {},
   "outputs": [],
   "source": [
    "## NumPy and random Modules.\n",
    "# Chain the Numby and Radmon to create the arrary.\n",
    "# import Numpy\n",
    "# importing Numpy includes Random. So no need to import random in using NumPy\n",
    "import numpy as np"
   ]
  },
  {
   "cell_type": "code",
   "execution_count": 16,
   "metadata": {},
   "outputs": [
    {
     "data": {
      "text/plain": [
       "-73.55798400152148"
      ]
     },
     "execution_count": 16,
     "metadata": {},
     "output_type": "execute_result"
    }
   ],
   "source": [
    "## use Numpy plus random\n",
    "#  don't really need to add the zeros past the decimals.\n",
    "np.random.uniform(-90.000, 90.000)  "
   ]
  },
  {
   "cell_type": "code",
   "execution_count": 17,
   "metadata": {},
   "outputs": [
    {
     "data": {
      "text/plain": [
       "-86.35081416828878"
      ]
     },
     "execution_count": 17,
     "metadata": {},
     "output_type": "execute_result"
    }
   ],
   "source": [
    "# another example\n",
    "np.random.uniform(low = -90, high = 90)  "
   ]
  },
  {
   "cell_type": "code",
   "execution_count": 19,
   "metadata": {},
   "outputs": [
    {
     "data": {
      "text/plain": [
       "array([ 25.24606403,  17.23575678, -84.95180237,  87.48671228,\n",
       "        -9.05062796, -29.07397791, -31.32598689,  89.64964937,\n",
       "        75.24039688,  51.78177795,  -2.34557112, -41.16564375,\n",
       "       -65.05684936,   4.91988456, -36.18128036, -59.41056549,\n",
       "        63.97658852,  67.21495785,  30.53632363, -46.65237025,\n",
       "       -15.46411029,  83.61237534,  72.518929  ,  52.44838506,\n",
       "       -62.60284006,  26.38266867,  59.42489768, -46.60898598,\n",
       "        60.31992255,  21.81873894,  55.07795423, -21.9115076 ,\n",
       "        24.95808396, -84.58827356,   3.01095454,  84.12608038,\n",
       "        67.22055251,  40.92652832,  76.44687156, -77.16355688,\n",
       "        44.6338907 , -89.88876327,  59.58064755,  14.29037644,\n",
       "       -45.16167384,  32.15359686,  31.54381795,  46.51009938,\n",
       "         5.64583495,  41.04581044])"
      ]
     },
     "execution_count": 19,
     "metadata": {},
     "output_type": "execute_result"
    }
   ],
   "source": [
    "# leverage the size parameter\n",
    "np.random.uniform(low = -90, high = 90, size = 50) "
   ]
  },
  {
   "cell_type": "code",
   "execution_count": 20,
   "metadata": {},
   "outputs": [],
   "source": [
    "## introduction to timeit.  very nice!!\n",
    "import timeit"
   ]
  },
  {
   "cell_type": "code",
   "execution_count": 23,
   "metadata": {},
   "outputs": [
    {
     "name": "stdout",
     "output_type": "stream",
     "text": [
      "73.6 µs ± 5.86 µs per loop (mean ± std. dev. of 7 runs, 10000 loops each)\n"
     ]
    }
   ],
   "source": [
    "## time the np random with size of 1500\n",
    "%timeit np.random.uniform(-90.000, 90.000, size=1500)\n",
    "## 74 microseconds. micro second is 100)x milli second"
   ]
  },
  {
   "cell_type": "code",
   "execution_count": 26,
   "metadata": {},
   "outputs": [
    {
     "name": "stdout",
     "output_type": "stream",
     "text": [
      "9.79 ms ± 966 µs per loop (mean ± std. dev. of 7 runs, 100 loops each)\n"
     ]
    }
   ],
   "source": [
    "## now compare to a while loop for the same output of randon numbers\n",
    "def latitudes(size): # define a function calling input variable of size\n",
    "    latitudes = []  # empty list\n",
    "    x = 0           # initilize counter  \n",
    "    while x < (size): # run the while loop X times where X = size\n",
    "        random_lat = random.randint(-90, 90) + random.random()\n",
    "        latitudes.append(random_lat)\n",
    "        x += 1\n",
    "    return latitudes\n",
    "# Call the function with 1500. \n",
    "%timeit latitudes(1500)"
   ]
  },
  {
   "cell_type": "code",
   "execution_count": 25,
   "metadata": {},
   "outputs": [],
   "source": [
    "## In my case, calling np.random.uniform function \n",
    " # is 10x as slow as the defined function.  contradicts instruction"
   ]
  },
  {
   "cell_type": "code",
   "execution_count": null,
   "metadata": {},
   "outputs": [],
   "source": [
    "## that's what we just did in the above. \n",
    "\n",
    "def latitudes(size): # define a function calling input variable of size\n",
    "    latitudes = []  # empty list\n",
    "    x = 0           # initilize counter  \n",
    "    while x < (size): # run the while loop X times where X = size\n",
    "        random_lat = random.randint(-90, 90) + random.random()\n",
    "        latitudes.append(random_lat)\n",
    "        x += 1\n",
    "    return latitudes\n",
    "# Call the function with 1500. \n",
    "%timeit latitudes(1500)"
   ]
  }
 ],
 "metadata": {
  "kernelspec": {
   "display_name": "Python 3",
   "language": "python",
   "name": "python3"
  },
  "language_info": {
   "codemirror_mode": {
    "name": "ipython",
    "version": 3
   },
   "file_extension": ".py",
   "mimetype": "text/x-python",
   "name": "python",
   "nbconvert_exporter": "python",
   "pygments_lexer": "ipython3",
   "version": "3.6.9"
  }
 },
 "nbformat": 4,
 "nbformat_minor": 2
}
